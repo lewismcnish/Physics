{
 "cells": [
  {
   "attachments": {},
   "cell_type": "markdown",
   "metadata": {},
   "source": [
    "# X-Ray Diffraction"
   ]
  },
  {
   "cell_type": "code",
   "execution_count": null,
   "metadata": {},
   "outputs": [],
   "source": [
    "import numpy as np\n",
    "import matplotlib.pyplot as plt\n",
    "import scipy as sp\n",
    "import scipy.optimize as opt\n",
    "import scipy.constants as const\n",
    "\n",
    "title_size = 20\n",
    "axis_size = 16"
   ]
  },
  {
   "attachments": {},
   "cell_type": "markdown",
   "metadata": {},
   "source": [
    "## Pre-lab Questions\n",
    "\n",
    "1.a) Read labscript and relevant course material. Elements used from mathematical techniques are: scipy curve_fit and chi squared test.\n",
    "<br>\n",
    "<br>\n",
    "1.b) From the equation $m\\lambda = 2d\\sin\\theta$ from this for a higher wavelength the angle of diffraction will be greater than for a lower wavelength. As the energy of the K-alpha is lower as it comes from the n = 2 to the n = 1 shell, the wavelength will be higher and the angle of diffraction will be greater then that of the K-beta which comes from the n = 3 to the n = 1 shell.\n",
    "<br>\n",
    "<br>\n",
    "1.c) Calculate the Interatomic spacing of a LiF cubic crystal using $d = \\frac{a}{\\sqrt{3}}$ where a is the lattice constant. First calculate the lattice constant from the mass and the density of the crystal. \n",
    "<br>\n",
    "<br>\n",
    "$\\rho = 2.64 g/cm^3$\n",
    "<br>\n",
    "<br>\n",
    "$m_{tot} = 25.94 u$\n",
    "<br>\n",
    "<br>\n",
    "$m_{tot} = \\frac{25.94}{6.022\\times 10^{23}} = 4.308\\times 10^{-23} g$\n",
    "<br>\n",
    "<br>\n",
    "$Volume = \\frac{m_{tot}}{\\rho} = \\frac{4.308\\times 10^{-23}}{2.64} = 1.632\\times 10^{-23} cm^3$\n",
    "<br>\n",
    "<br>\n",
    "$a = \\sqrt[3]{Volume} = \\sqrt[3]{1.632\\times 10^{-23}} = 2.536\\times 10^{-8} cm$\n",
    "<br>\n",
    "<br>\n",
    "$d = \\frac{a}{\\sqrt{3}} = \\frac{2.536\\times 10^{-8}}{\\sqrt{3}} = 1.46\\times 10^{-8} cm$"
   ]
  },
  {
   "cell_type": "code",
   "execution_count": null,
   "metadata": {},
   "outputs": [],
   "source": []
  },
  {
   "cell_type": "code",
   "execution_count": null,
   "metadata": {},
   "outputs": [],
   "source": []
  },
  {
   "cell_type": "code",
   "execution_count": null,
   "metadata": {},
   "outputs": [],
   "source": []
  },
  {
   "cell_type": "code",
   "execution_count": null,
   "metadata": {},
   "outputs": [],
   "source": []
  }
 ],
 "metadata": {
  "language_info": {
   "name": "python"
  },
  "orig_nbformat": 4
 },
 "nbformat": 4,
 "nbformat_minor": 2
}
