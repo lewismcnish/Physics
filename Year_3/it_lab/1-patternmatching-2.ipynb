{
 "cells": [
  {
   "cell_type": "markdown",
   "metadata": {},
   "source": [
    "# Exercise 1: Pattern matching\n",
    "\n",
    "In this exercise we will be performing an exercise on matching patterns between two images. But first we need to get the task instructions, which are embedded in *another* pair of images that we have to assemble. Handling data often involves reading in multiple files to process together, so this is good practise.\n",
    "\n",
    "<div class=\"alert alert-block alert-info\">\n",
    "<h3>This exercise will cover:</h3> \n",
    "</div>\n",
    "\n",
    " * Finding files and opening files. \n",
    " * Plotting 2D arrays with `matplotlib`. \n",
    " * Handling 2D array-like data structures with `numpy`\n",
    " * Using the subscript operator `[ ]` and Python's slices \n",
    " * Looping over a data structure to perform an operation on every element \n",
    "\n",
    "<div class=\"alert alert-block alert-info\"></div>\n",
    "\n",
    "# Formative feedback\n",
    "Exercise 1 is intended for you to get **formative (unmarked) feedback** to imporve your programming style.  We normally focus on exercise 2 & 3 during the final marking unless there are issues during the lab. So, attempt this exercise on the first day, and make a record as you go along.  On the **first Thursday morning ask a demonstrator to look over it and give you feedback**, which you can use in approaching Exercises 2 & 3.  Then **make a start on Exercises 2 & 3**.  If you have not finished Exercise 1 by the first Thursday morning, it's better to make a start on Exercise 2 & 3 anyway. \n",
    "\n",
    "## Part 1: Handling text strings\n",
    "\n",
    "In much physics work the key information is in numbers, but you will probably spend a good deal of time having to manage text data. Text in Python is represented using character **strings**, specifically of type `str`. \"Literal\" strings are indicated in code using single or double quotes, but they can also be stored in variables. Like arrays, they support iteration, indexing, slicing, etc. via the square-bracket operators -- as shown below, along with some other features:"
   ]
  },
  {
   "cell_type": "code",
   "execution_count": 27,
   "metadata": {},
   "outputs": [
    {
     "name": "stdout",
     "output_type": "stream",
     "text": [
      "a =  A string\n",
      "\n",
      "Indexing:  a[4] =  r\n",
      "Slicing:  b[2:5] =  oth\n",
      "\n",
      "The for loop:\n",
      "< A >\n",
      "<   >\n",
      "< s >\n",
      "< t >\n",
      "< r >\n",
      "< i >\n",
      "< n >\n",
      "< g >\n",
      "\n",
      "d =  A stringA stringA stringA stringA string\n",
      "\n",
      "'A string...Another string' contains 'other'\n",
      "2.4 (stored as a string)\n",
      "2.4 (stored as a float)\n"
     ]
    }
   ],
   "source": [
    "# Declaring strings. Either single or double quotes can be used in Python (but they must match).\n",
    "a = \"A string\"\n",
    "b = 'Another string'\n",
    "print(\"a = \", a)\n",
    "print()  #prints empty line\n",
    "\n",
    "# You can index characters in a string using the usual syntax.\n",
    "print(\"Indexing:  a[4] = \", a[4])\n",
    "\n",
    "# Slicing works the same as for other iterables as well.\n",
    "\n",
    "print(\"Slicing:  b[2:5] = \", b[2:5])  \n",
    "print()\n",
    "\n",
    "# Iteration, too.\n",
    "print(\"The for loop:\")\n",
    "for letter in a:\n",
    "    print( \"<\", letter, \">\")\n",
    "print()\n",
    "\n",
    "# You can concatenate strings using + and repeat a string using *.\n",
    "c = a + \"...\" + b\n",
    "d = a*5\n",
    "print(\"d = \", d)\n",
    "print()\n",
    "\n",
    "# Test if a string contains a substring\n",
    "test_str = \"other\"\n",
    "if test_str in c:\n",
    "    print(\"'\" + c +\"' contains '\" + test_str +\"'\" )\n",
    "\n",
    "# Convert a string to a floating-point number and back.\n",
    "e = str(12./5.); print(e, \"(stored as a string)\")\n",
    "e = float(e); print(e, \"(stored as a float)\")"
   ]
  },
  {
   "cell_type": "markdown",
   "metadata": {},
   "source": [
    "<div class=\"alert alert-block alert-warning\">\n",
    "<h3>Check your understanding</h3>\n",
    "</div>\n",
    "Try the slicing and floating-point conversions on the following string to get an approximate value of $\\pi$.  To speed things along, the first number is at position 32, and the second at position 47"
   ]
  },
  {
   "cell_type": "code",
   "execution_count": 2,
   "metadata": {},
   "outputs": [],
   "source": [
    "statement = \"The value of pi is approximately 333 divided by 106\""
   ]
  },
  {
   "cell_type": "markdown",
   "metadata": {},
   "source": [
    "<div class=\"alert alert-block alert-warning\"></div>\n",
    "\n",
    "## Part 2: Image data on computers\n",
    "\n",
    "Computers store visual images in two very different ways. One way is essentially a set of instructions for drawing the images. This is referred to as vector graphics as it is made up of geometric objects and transformations, and it is good or representing technical things like graphs or blueprints.  Far more common is raster graphics, where the image is divided into a *M x N* array of *pixels* and the colour at each pixel is recorded as a set of numerical values.  Since the standard for colour images is RGB (reg-green-blue) to match human colour perception each pixel is typically represented by three numbers.  Greyscale images, that only show brightness, can be represented as a single number.  \n",
    "\n",
    "The basic version of a raster image is a `.bmp` ('bit map') file.  These can get pretty large so more commonly you will see files that are compressed when written to disk. The most relevant example for us is `.png` although you sometimes see an older format `.gif` still in use. Both of these achieve good data compression for images like graphs and diagrams with large areas of a single color.  For photographic images `.jpg` is more common, but this (permanently) discards some detail in order to make the file size really small. \n",
    "\n",
    "For scientific use, `.png` is usually the best choice best choice. It is best (common) encoding for 'flat' images like plots and graphs. And even in the case of a photographic image, if it to be used as data we don't want the lossy `.jpg` format to throw away some of the detail.  In the first exercise we will use `.png`, although mostly the images will be greyscale.\n",
    "\n",
    "\n",
    "<div class=\"alert alert-block alert-info\">\n",
    "There are specialised scientific formats as well. For example, astronomical instruments may not use the RGB colour space, or they may record brightness far more precisely than can be encoded in an everyday image format.  So astronomy usually uses a specialist format called <a href=\"https://fits.gsfc.nasa.gov/fits_documentation.html\">FITS</a> which can contain multiple related images at different precisions, and other kinds of data like spectra.  The basic idea of an image being recorded as a 2D map of pixels is still used however, and as far as Python is concerned the operations to work with images are basically the same.  \n",
    "</div>"
   ]
  },
  {
   "cell_type": "markdown",
   "metadata": {},
   "source": [
    "### Opening an image\n",
    "The first thing to learn to do is to load and display an image. There are many image manipulation libraries for Python, notably *pillow* (based on PIL, the Python Image Library).  If you look online you'll see a lot of examples like this:"
   ]
  },
  {
   "cell_type": "code",
   "execution_count": 3,
   "metadata": {},
   "outputs": [],
   "source": [
    "###This is how we might open an image with PIL:\n",
    "\n",
    "from PIL import Image\n",
    "pil_image = Image.open(\"patterns/glasgow_greyscale.png\")\n",
    "pil_image.show()\n",
    "\n",
    "### From here might resize, rotate, crop, etc..."
   ]
  },
  {
   "cell_type": "markdown",
   "metadata": {},
   "source": [
    "*But you'll probably find this does not display anything!* \n",
    "\n",
    "Pillow dispatches the actual display to another program, which Jupyter does not provide.  So although it's the standard Python tool for images, we will not be using it.  In any case we are here to learn some numerical work and treat the images *as a kind of data*, so it's no big loss.   \n",
    "\n",
    "So instead, we'll import them into the main numerical library for Python: `NumPy`. To display this, we will use the most common graphing/plotting library: `MatPlotLib`.  \n",
    "> Notice below that language keywords (like the name of the colo(u)r map: gray) are spelt in US style.  Unfortunate, but luckily it doesn't come up too often. "
   ]
  },
  {
   "cell_type": "code",
   "execution_count": 2,
   "metadata": {},
   "outputs": [
    {
     "data": {
      "text/plain": [
       "<matplotlib.image.AxesImage at 0x188a55d60e0>"
      ]
     },
     "execution_count": 2,
     "metadata": {},
     "output_type": "execute_result"
    },
    {
     "data": {
      "image/png": "[encoded data removed]",
      "text/plain": [
       "<Figure size 1200x400 with 1 Axes>"
      ]
     },
     "metadata": {},
     "output_type": "display_data"
    }
   ],
   "source": [
    "### This is (one way) to open the image to do numerical work on it \n",
    "import matplotlib.pyplot as plt\n",
    "\n",
    "### Load the image from file. Then display it.\n",
    "test_image = plt.imread(\"patterns/glasgow_greyscale.png\")\n",
    "plt.figure(figsize=(12,4))  # Sets the size of the displayed image\n",
    "plt.imshow(test_image, cmap=\"gray\")  #cmap tells it to plot brightness values as shades of grey"
   ]
  },
  {
   "cell_type": "markdown",
   "metadata": {},
   "source": [
    "*The first time you run this it will probbaly produce some errors. They should go away if you rerun the cell.*\n",
    "\n",
    "Let's walk through what we just did.  The image was made by calling functions of `pyplot`. These are like the functions you `def`ine yourself. But to tell Python where to find them they are prefaced with the library name. To use them:\n",
    " * We called `import matplotlib.pyplot as plt` to load the `pyplot` functions, and gave them an alias `plt` so we don't have to type `matplotlib.pyplot.` each time.\n",
    " * We called the functions `imread()`, `figure()`, and `imshow()`.  They are all prefaced with `plt.` to tell Python that these are from `matplotlib.pyplot` (alias `plt`).\n",
    " > Note that the `figsize=(12,8)` argument says how wide and hight the plot should be. But since this is an image Python automatically adjusts the aspect ratio.  You will have more freedom when drawing real plots later.\n",
    "\n",
    "What you should see is a greyscale image with two axes around it.  If we inspect the data that we made the image from:"
   ]
  },
  {
   "cell_type": "code",
   "execution_count": 7,
   "metadata": {},
   "outputs": [
    {
     "name": "stdout",
     "output_type": "stream",
     "text": [
      "<class 'numpy.ndarray'>\n",
      "(338, 600)\n"
     ]
    }
   ],
   "source": [
    "print(type(test_image))\n",
    "print(test_image.shape)"
   ]
  },
  {
   "cell_type": "markdown",
   "metadata": {},
   "source": [
    "In the first line, Python is reporting that the image data is stored as an `ndarray`, from the `NumPy` library [(documented here)](https://numpy.org/doc/1.19/reference/generated/numpy.ndarray.html). In the second we see that the shape of the array is 338 (rows) $\\otimes$ 600 (columns). Comparing to the displayed image, this does indeed correspond to the size of the image indicated by the axes, with each 1-by-1 'bin' corresponding to a pixel of the image.  \n",
    "\n",
    "<div class=\"alert alert-block alert-warning\">\n",
    "<h3>Tweaking the image display</h3>\n",
    "</div>\n",
    "\n",
    " 1. There is a colour version of the logo in the same folder called `\"glasgow_rgb.png\"`.  Write an equivalent section of code to display it, and have a look at the 'shape' of the data to confirm it really does have three RGB colour channels. \n",
    "\n",
    " 2. What are the RGB values for the blue background of this image?  \n",
    "    *Hint: most pixels are blue. In particular, the first pixel in the corner is a background pixel*\n",
    " \n",
    " 2. Although it helped in understanding how python represented the image, it's not normal to plot images with axes.  We can modify some of the attributes of an image by calling other functions using the same `plt.<blah>` syntax. Have a look at the [pyplot documentation](https://matplotlib.org/3.2.2/api/pyplot_summary.html) and see if you can:\n",
    "  *  Turn off the axis display so you get just the image\n",
    "  *  Crop the image to remove 100 pixels off all four sides\n",
    " \n",
    "<div class=\"alert alert-block alert-warning\"> </div>\n"
   ]
  },
  {
   "cell_type": "markdown",
   "metadata": {},
   "source": [
    "## Part 3: Reading in files according to a text pattern\n",
    "\n",
    "The first thing to do is to list all the files in the directory, for which you can use the `os.listdir` function. This takes the directory path as an argument and returns a list of all directory contents. The trickier part is choosing the correct files to go in each group.\n",
    "\n",
    "The string type `str` has [some functions](https://docs.python.org/3/library/stdtypes.html#string-methods) to help with parsing. These include `startswith()`, `endswith()`, `find()` and `split()` functions, e.g. `\"mystring\".endswith(\"ing\")`. Using these and other string methods you can pick out which files you want to read in and which ones to skip.\n",
    "\n",
    "A short demo on navigating directories is provided below."
   ]
  },
  {
   "cell_type": "code",
   "execution_count": 6,
   "metadata": {},
   "outputs": [
    {
     "name": "stdout",
     "output_type": "stream",
     "text": [
      "['0-gettingstarted.ipynb', '1-patternmatching.ipynb', '2-bungeejump.ipynb', '3-neutrinofit.ipynb', 'get-working-copy.sh', 'neutrino', 'patterns', '.ipynb_checkpoints']\n",
      "['.ipynb_checkpoints', 'bix_hidden_i6.png', 'dcy_hidden_h5.png', 'tgm_hidden_j0.png', 'glasgow_rgb.png', 'hidden_0905.png', 'hidden_1503.png', 'hidden_2503.png', 'hidden_4119.png', 'hidden_5276.png', 'hidden_5703.png', 'hidden_6370.png', 'hidden_7342.png', 'hidden_8169.png', 'hidden_8250.png', 'irh_hidden_q9.png', 'left.png', 'liy_hidden_i6.png', 'qqe_hidden_e9.png', 'right.png', 'tnw_hidden_x0.png', 'weu_hidden_n0.png', 'wvy_hidden_u6.png', 'bge_hidden_d1.png', 'glasgow_greyscale.png', 'soho_left.png', 'soho_right.png', 'text_file.txt']\n",
      "['bge_hidden_d1.png', 'bix_hidden_i6.png', 'dcy_hidden_h5.png', 'hidden_0905.png', 'hidden_1503.png', 'hidden_2503.png', 'hidden_4119.png', 'hidden_5276.png', 'hidden_5703.png', 'hidden_6370.png', 'hidden_7342.png', 'hidden_8169.png', 'hidden_8250.png', 'irh_hidden_q9.png', 'left.png', 'liy_hidden_i6.png', 'qqe_hidden_e9.png', 'right.png', 'tnw_hidden_x0.png', 'weu_hidden_n0.png', 'wvy_hidden_u6.png', 'text_file.txt', '.ipynb_checkpoints', 'glasgow_greyscale.png', 'glasgow_rgb.png', 'tgm_hidden_j0.png', 'soho_left.png', 'soho_right.png']\n"
     ]
    }
   ],
   "source": [
    "import os\n",
    "print(os.listdir()) #os.listdir() returns a list of strings containg files in the current directory if no arguments provided\n",
    "print(os.listdir(\"patterns\")) #or you can provide it a path realative to the directory the notebook is in\n",
    "print(os.listdir(\"/data/examples/p3/itlab/patterns\")) #or you can provide an absolute path to the examples directory"
   ]
  },
  {
   "cell_type": "code",
   "execution_count": 8,
   "metadata": {},
   "outputs": [],
   "source": [
    "# Prints out all filenames that start with the word \"hidden\" in the patterns folder.\n",
    "for filename in os.listdir(\"patterns/\"):\n",
    "    if filename.startswith(\"hidden\"):\n",
    "        print(filename)"
   ]
  },
  {
   "cell_type": "markdown",
   "metadata": {},
   "source": [
    "### A different approach: regular expressions\n",
    "\n",
    "A more powerful solution is to use **regular expressions**, also known as \"regexes\". Regexes are a miniature programming language in their own right, specifically for matching patterns in text. They provide a robust way to perform string operations (matchings, substitutions, etc.).\n",
    "\n",
    "Regular expressions are provided in Python via the **re** library. You should take a good look at the [Python documentation](https://docs.python.org/3/library/re.html) before you start writing anything -- regex syntax is not immediately obvious! A key element is its wildcard characters, which represent whole sets of specific characters, e.g. `\\d` for a digit, `\\w` for a word character, `.` for anything at all. Another good resource is [RegEx101](https://regex101.com/), an online tool for quickly testing expressions with explanations of what's happening.\n",
    "\n",
    "A few simple examples are given below:"
   ]
  },
  {
   "cell_type": "code",
   "execution_count": 8,
   "metadata": {},
   "outputs": [
    {
     "name": "stdout",
     "output_type": "stream",
     "text": [
      "cat matches with cats\n",
      "cats matches with cats\n",
      "cat matches with cat\n",
      "cat matches with catcat\n",
      "Univ matches with University\n",
      "Univ matches with Universe\n"
     ]
    }
   ],
   "source": [
    "import re\n",
    "\n",
    "words = [\"cats\", \"cat\", \"catcat\", \"dog\", \"dogs\", \"University\", \"dictionary\", \"Universe\"]\n",
    "\n",
    "# Note: the pattern string must be fully present in the word to match, and capitalization matters.\n",
    "# These examples don't use important RE elements like repetition operators, which you should look into.\n",
    "for word in words:\n",
    "    if re.match(\"cat\", word):\n",
    "        print(\"cat matches with {}\".format(word))\n",
    "    if re.match(\"cats\", word):\n",
    "        print(\"cats matches with {}\".format(word))\n",
    "    if re.match(\"Univ\", word):\n",
    "        print(\"Univ matches with {}\".format(word))\n",
    "    if re.match(\"univ\", word):\n",
    "        print(\"univ matches with {}\".format(word))\n"
   ]
  },
  {
   "cell_type": "markdown",
   "metadata": {},
   "source": [
    "<div class=\"alert alert-block alert-success\">\n",
    "    <h3>Computing task: Hidden instructions</h3>\n",
    "</div>\n",
    "\n",
    "The `patterns` folder contains a number of .png images. You will need make two separate groups of images, and add each group together to access instructions for the next part of the exercise. \n",
    "\n",
    "Each group has a unique naming convention. The file names in Group 1 are of the form `hidden_xxxx` while the file names in Group 2 are of the form `yyy_hidden_yx`, where `x` represents a random digit and `y` represents a random letter.  (There are also some image files that are part of neither group)\n",
    "\n",
    "Using either name-matching method described above, read in the images in Group 1 and Group 2. Now create two composite images by adding together all the files in each group -- take a look at these images so you know what you're working with -- and finally take the difference between the two composite images to get instructions for the next part of the exercise.<BR>\n",
    "*If you are having trouble reading the instructions, try using the `plt.set_cmap()` function to set a different colourmap from the list [here](https://matplotlib.org/stable/gallery/color/colormap_reference.html). Anecdotally, taking the `abs()` of the difference can also help.*\n",
    "    \n",
    "The task in the hidden instructions will require you to do loop and a compare two arrays inside a loop. Have a look at the three functions below and explain what they do differently.  Which one would be most suitable for the task you have been given?\n",
    "    \n",
    "<div class=\"alert alert-block alert-success\">\n",
    "</div>\n",
    "    \n"
   ]
  },
  {
   "cell_type": "code",
   "execution_count": 36,
   "metadata": {},
   "outputs": [],
   "source": [
    "def difference_V1(left, right):\n",
    "    \"\"\"(Should) compare two 1D arrays and return a positive number quantifing how different they are. \n",
    "    0 means the same, increasing values mean more different\"\"\"\n",
    "    diff = left - right\n",
    "    return sum(diff)\n",
    "\n",
    "\n",
    "def difference_V2(left, right):\n",
    "    \"\"\"(Should) compare two 1D arrays and return a positive number quantifing how different they are. \n",
    "    0 means the same, increasing values mean more different\"\"\"\n",
    "    diff = left - right\n",
    "    return sum(abs(diff))\n",
    "\n",
    "\n",
    "def difference_V3(left, right):\n",
    "    \"\"\"(Should) compare two 1D arrays and return a positive number quantifing how different they are. \n",
    "    0 means the same, increasing values mean more different\"\"\"\n",
    "    diff = left - right\n",
    "    return abs(sum(diff))\n"
   ]
  },
  {
   "cell_type": "markdown",
   "metadata": {},
   "source": [
    "<div class=\"alert alert-block alert-warning\">\n",
    "    <h3>How general is your solution?</h3>\n",
    "</div>\n",
    "\n",
    "There are two more images in the patterns folder: `soho_left.png` and `soho_right.png`, that are an approximate map of the surface temperature of the sun from the [SOHO](https://sohowww.nascom.nasa.gov/) data.  See if your solution to the second part works for these images too.\n",
    "\n",
    "<div class=\"alert alert-block alert-warning\"> </div>"
   ]
  }
 ],
 "metadata": {
  "kernelspec": {
   "display_name": "Python 3.11.0 64-bit",
   "language": "python",
   "name": "python3"
  },
  "language_info": {
   "codemirror_mode": {
    "name": "ipython",
    "version": 3
   },
   "file_extension": ".py",
   "mimetype": "text/x-python",
   "name": "python",
   "nbconvert_exporter": "python",
   "pygments_lexer": "ipython3",
   "version": "3.10.11"
  },
  "vscode": {
   "interpreter": {
    "hash": "aee8b7b246df8f9039afb4144a1f6fd8d2ca17a180786b69acc140d282b71a49"
   }
  }
 },
 "nbformat": 4,
 "nbformat_minor": 4
}
